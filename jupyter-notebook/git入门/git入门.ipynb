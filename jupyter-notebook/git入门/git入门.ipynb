{
 "cells": [
  {
   "cell_type": "markdown",
   "metadata": {},
   "source": [
    "# git配置 \n",
    "* 设置你的 Git 用户名\n",
    "`git config --global user.name \"<Your-Full-Name>\"`\n",
    "* 设置你的 Git 邮箱\n",
    "`git config --global user.email \"<your-email-address>\"`\n",
    "* 确保 Git 输出内容带有颜色标记\n",
    "`git config --global color.ui auto`\n",
    "* 对比显示原始状态\n",
    "`git config --global merge.conflictstyle diff3`\n",
    "* 显示所有配置信息\n",
    "`git config --list`\n",
    "* macOs设置git关联编辑器\n",
    "`git config --global core.editor \"'/Applications/Sublime Text.app/Contents/SharedSupport/bin/subl' -n -w\"`"
   ]
  },
  {
   "cell_type": "markdown",
   "metadata": {},
   "source": [
    "# git常用操作\n",
    "* `git init` 初始化repo\n",
    "* `git clone` 克隆repo\n",
    "* `git status` 查看repo状态\n",
    "* `git log --oneline` 一行内容显示提交信息\n",
    "* `git log -p` 查看提交记录并且显示补丁信息\n",
    "* `git log --stat` 查看提交记录并且显示修改总览\n",
    "* `git log --decorate` 查看提交记录并且显示版本信息\n",
    "* `git show 42a69f ` 查看SHA为42a69f的版本提交详情\n",
    "* `git add .` 添加当前所有改动到暂存区\n",
    "* `git rm --cached file_name` 从暂存区中删除某个文件\n",
    "* `git diff` 用来查看已经执行但是尚未 commit 的更改\n",
    "* `git commit -m 'message'` 提交暂存区内的所有改动到repo\n",
    "* `git reset --hard HEAD^` 撤销提交\n",
    "* `git tag -a beta` 设置beta标签，`-a`可以添加注释\n",
    "* `git tag -d beta` 删除betab标签\n",
    "* `git tag -a v1.0 a87984` 为以前某个提交版本设置标签\n",
    "* `git branch` 列出分支\n",
    "* `git branch sidebar` 创建sidebar分支\n",
    "* `git branch sidebar 5bfe5e7` 在制定提交版本出创建分支\n",
    "* `git branch -d sidebar` 删除sidebar分支，如果有未提交的改动，则不会删除\n",
    "* `git branch -D sidebar` 强制删除sidebar分支\n",
    "* `git checkout sidebar` 切换到sidebar分支\n",
    "* `git checkout -b newBranch` 创建并切换到newBranch分支\n",
    "* `git log --oneline --graph --all` ` --graph`选项将条目和行添加到输出的最左侧。显示了实际的分支。`--all` 选项会显示仓库中的所有分支。\n",
    "* `git merge footer` 首先确保切换到master分支上，然后执行命令，会将footer分支合并到master分支上\n",
    "* `git commit --amend` 修改提交的备注信息，或者添加上次提交遗漏的提交内容\n",
    "* `git revert db7e87a` 还原`db7e87a`版本提交的内容\n",
    "* `git reset db7e87a` 删除`db7e87a`版本提交记录及内容，`git`会持续追踪30天，可用`git reflog`找回\n",
    " * `--mixed` 删除的版本提交内容会保留在工作区\n",
    " * `--soft` 删除的版本提交内容会保留在暂存区，等待再次提交\n",
    " * `--hard` 删除的半杯提交内容会被丢到`trash`中，`git`会保留30天\n",
    "* ` git shortlog` 显示按作者排序的提交内容，`-s`只显示提交次数，`-n`按数量排序\n",
    "* `git log --author=Surma` 查看制定作者的版本提交记录\n",
    "* `git log --grep=bug` 筛选含有指定信息的版本提交记录"
   ]
  },
  {
   "cell_type": "markdown",
   "metadata": {},
   "source": [
    "# gitignore 设置忽略文件\n",
    "* 空白行作为空格\n",
    "* #将行标记为注释\n",
    "* *与0个或多个字符匹配\n",
    "* ? 与 1 个字符匹配\n",
    "* [abc] - 与 a、b 或 c 匹配\n",
    "* **与嵌套目录匹配，例如a/**/z"
   ]
  },
  {
   "cell_type": "markdown",
   "metadata": {},
   "source": [
    "# git指针HEAD\n",
    "* `HEAD^2`  往回数第二个版本中的第二个父级版本\n",
    "* `HEAD~2` 往回数第二个版本"
   ]
  },
  {
   "cell_type": "markdown",
   "metadata": {},
   "source": [
    "# git管理远程repo\n",
    "* `git remote add repo_on_github https://github.com/richardkalehoff/RichardsFantasticProject.git` 添加远程repo\n",
    "* `git remote -v` 显示所有远程仓库信息\n",
    "* `git push <remote-shortname> <branch>` 将本地分支推送到远程repo\n",
    "* `git pull repo_on_github master` 从` repo_on_github`的`master`分支拉取更新\n",
    "* `git fetch origin master` 从远程repo检索更新到本地，但不会自动合并本地`master`分支，需要执行`git merge origin/master`以合并"
   ]
  },
  {
   "cell_type": "markdown",
   "metadata": {},
   "source": [
    "# git rebase\n",
    "* `git rebase -i HEAD~3` 合并最近提交的3个提交版本，分3步走，经常第一个用r，其余用s\n",
    "* * 上述命令可以用SHA，标签名字，分支名字作为新基底的标记\n",
    "* * 使用 p 或 pick – 使 commit 保持原样\n",
    "* * 使用 r 或 reword – 保留 commit 的内容，但修改 commit 说明\n",
    "* * 使用 e 或 edit – 保留 commit 的内容，但先不要执行 commit，以便：\n",
    "* * 添加新内容或文件\n",
    "* * 删除内容或文件\n",
    "* * 修改即将 commit 的内容\n",
    "* * 使用 s 或 squash – 将此 commit 的更改结合到之前的 commit 中（列表中位于其上面的 commit ）\n",
    "* * 使用 f 或 fixup – 将此 commit 的更改结合到前一个 commit 中，但删除提交说明\n",
    "* * 使用 x 或 exec – 运行 shell 命令\n",
    "* * 使用 d 或 drop – 删除 commit\n",
    "* * 使用 `git push -f` 强制推送到远程repo"
   ]
  },
  {
   "cell_type": "code",
   "execution_count": null,
   "metadata": {},
   "outputs": [],
   "source": []
  }
 ],
 "metadata": {
  "kernelspec": {
   "display_name": "Python 3",
   "language": "python",
   "name": "python3"
  },
  "language_info": {
   "codemirror_mode": {
    "name": "ipython",
    "version": 3
   },
   "file_extension": ".py",
   "mimetype": "text/x-python",
   "name": "python",
   "nbconvert_exporter": "python",
   "pygments_lexer": "ipython3",
   "version": "3.6.6"
  }
 },
 "nbformat": 4,
 "nbformat_minor": 2
}
